{
 "cells": [
  {
   "cell_type": "markdown",
   "id": "b75613f5-bfba-4888-9958-0e7ada3b9682",
   "metadata": {},
   "source": [
    "***\n",
    "# 4. Conclusion du projet  \n",
    "***"
   ]
  },
  {
   "cell_type": "markdown",
   "id": "d06b5286-0ab3-4846-8f30-20a96560a854",
   "metadata": {},
   "source": [
    "# Conclusion globale\n",
    "\n",
    "À travers ce projet, nous avons pu constater l'efficacité de la méthode tau associée à la méthode de Galerkin. Sa généralisation aux systèmes d'équations d'ordre élevé se réalise de manière satisfaisante, moyennant quelques astuces. Bien que l'exploration des limites de cette méthode aurait été intéressante, je n'ai pas encore assez de recul pour en discuter, à l'exception du fait que toute modification de l'équation initiale peut naturellement conduire à une erreur. \n"
   ]
  },
  {
   "cell_type": "markdown",
   "id": "81604271-5323-490f-9e16-dd94bfacbf9c",
   "metadata": {},
   "source": [
    "# Remarques importantes\n",
    "\n",
    "## Dedalus version 2 et version 3\n",
    "\n",
    "Attention, il y a eu d'importants changements entre la version deux et la version trois de Dedalus. Dans la version deux, nous utilisions uniquement des équations du premier ordre, facilitant ainsi l'optimisation des termes tau, mais cela conduisait à d'importantes matrices de dérivation, même si celles-ci étaient creuses. La nouvelle version trois permet désormais d'entrer directement des équations d'ordre supérieur à un sans chercher à les décomposer. De plus, il est possible de travailler directement de manière vectorielle. Leur méthode de résolution a également évolué afin d'éviter ces grandes matrices.\n",
    "\n",
    "Le principe fondamental de la méthode demeure inchangé, mais la résolution des équations d'ordre supérieur à un a subi des modifications. Actuellement, seule une documentation détaillée sur la version deux est disponible, car la version trois est encore en cours de développement. Malgré cela, j'ai pris la décision, pour ce projet, de me baser sur la compréhension de la version deux, qui reste extrêmement utile pour appréhender le fonctionnement du code Dedalus, ainsi que pour comprendre les raisons qui motivent l'évolution vers la version trois. Cela permet également une compréhension plus globale de la méthode numérique employée.\n",
    "\n",
    "En dépit de l'efficacité accrue de la version trois, la version deux offrait une optimisation notable lors de l'ajout du terme tau. Comme démontré dans ce projet, l'implémentation de la méthode tau, telle que présentée, consiste essentiellement à supprimer une ligne d'équation sur les coefficients et à la remplacer par les conditions aux limites. Dans la version trois de Dedalus, cette implémentation est plus complexe et n'est pas encore automatisée. Il s'agit actuellement d'un sujet de recherche pour l'équipe de développement.\n",
    "\n",
    "## À propos des polynômes de Chebyshev\n",
    "\n",
    "Dans ce projet, nous nous sommes concentrés sur les polynômes de Chebyshev. Cependant, en réalité, la méthode est plus générale, et d'autres bases fonctionnent également bien, comme expliqué dans le papier. Il est crucial de retenir cette famille, car elle offre une précision accrue, particulièrement aux bords. Cette propriété est illustré dans l'image ci-dessous, on peut voir qu'une discrétisation type Fourier est régulière, alors que une discrétisation type Chebysev est concentré sur les bords. Cet aspect revêt une importance essentielle en mécanique des fluides lors de la résolution complète de l'écoulement, car les propriétés aux bords du domaine, c'est-à-dire de la couche limite, sont cruciales pour comprendre les propriétés globales de l'écoulement. Cela devient particulièrement significatif lorsqu'il y a une interaction entre deux interfaces, comme c'est le cas dans une interaction avec la glace.\n",
    "\n",
    "![Figure 3 du papier](Images/representation_cheby_four.png)\n",
    "\n",
    "\n",
    "\n"
   ]
  },
  {
   "cell_type": "markdown",
   "id": "69d5213e-eb77-4a66-8604-84619d6bdfbb",
   "metadata": {},
   "source": [
    "# Notes personnelles sur le projet\n",
    "\n",
    "La réalisation de ce projet a été une expérience enrichissante qui m'a véritablement passionné. Bien que cela ait nécessité des efforts importants et que j'aie rencontré des difficultés pour assimiler l'ensemble des concepts abordés, les recherches, les calculs et la réflexion investis en valaient la peine. La compréhension approfondie des codes de Dedalus, permettant des simulations détaillées en un minimum de temps et de lignes de code, a été particulièrement gratifiante.\n",
    "\n",
    "Je ressens une grande satisfaction d'avoir mené à bien ce projet, et j'exprime le désir de le poursuivre davantage. En effet, j'aspire à une compréhension complète de l'ensemble des aspects sous-jacents du projet Dedalus. Bien que le temps me manque actuellement, c'est une initiative que j'aimerais continuer à l'avenir, surtout si j'utilise ce code pour des simulations d'écoulements en mécanique des fluides, notamment dans l'étude de la turbulence.\n",
    "\n",
    "Je vous remercie d'avoir pris le temps de parcourir ce travail."
   ]
  },
  {
   "cell_type": "code",
   "execution_count": null,
   "id": "5e46227b-56a1-4640-8c1f-892bfb384847",
   "metadata": {},
   "outputs": [],
   "source": []
  }
 ],
 "metadata": {
  "kernelspec": {
   "display_name": "Python 3 (ipykernel)",
   "language": "python",
   "name": "python3"
  },
  "language_info": {
   "codemirror_mode": {
    "name": "ipython",
    "version": 3
   },
   "file_extension": ".py",
   "mimetype": "text/x-python",
   "name": "python",
   "nbconvert_exporter": "python",
   "pygments_lexer": "ipython3",
   "version": "3.12.0"
  }
 },
 "nbformat": 4,
 "nbformat_minor": 5
}
